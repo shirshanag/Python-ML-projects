{
  "nbformat": 4,
  "nbformat_minor": 0,
  "metadata": {
    "colab": {
      "provenance": [],
      "authorship_tag": "ABX9TyMcJbORO+JH036hhyXLgQxK",
      "include_colab_link": true
    },
    "kernelspec": {
      "name": "python3",
      "display_name": "Python 3"
    },
    "language_info": {
      "name": "python"
    }
  },
  "cells": [
    {
      "cell_type": "markdown",
      "metadata": {
        "id": "view-in-github",
        "colab_type": "text"
      },
      "source": [
        "<a href=\"https://colab.research.google.com/github/shirshanag/python_projects/blob/main/Product_purchaser.ipynb\" target=\"_parent\"><img src=\"https://colab.research.google.com/assets/colab-badge.svg\" alt=\"Open In Colab\"/></a>"
      ]
    },
    {
      "cell_type": "code",
      "execution_count": 49,
      "metadata": {
        "colab": {
          "base_uri": "https://localhost:8080/"
        },
        "id": "7sIt5XdH_XsG",
        "outputId": "73c44277-c912-4c3a-99ac-9100f0dc407c"
      },
      "outputs": [
        {
          "output_type": "stream",
          "name": "stdout",
          "text": [
            "   Age  Income  Purchase\n",
            "0   22   20000         0\n",
            "1   25   25000         1\n",
            "2   47   50000         1\n",
            "3   52   65000         1\n",
            "4   46   50000         1\n",
            "5   56   70000         0\n",
            "6   36   40000         1\n",
            "7   23   23000         0\n",
            "8   45   62000         0\n",
            "9   55   72000         1\n",
            "Accuracy:  100.0\n",
            "Confusion Matrix:\n",
            "[[1 0]\n",
            " [0 1]]\n"
          ]
        }
      ],
      "source": [
        "import pandas as pd\n",
        "import numpy as np\n",
        "from sklearn.model_selection import train_test_split\n",
        "from sklearn.preprocessing import StandardScaler\n",
        "from sklearn.neighbors import KNeighborsClassifier\n",
        "from sklearn.metrics import accuracy_score,confusion_matrix\n",
        "# Sample Dataset\n",
        "data={\n",
        "    'Age': [22, 25, 47,52, 46, 56, 36, 23, 45, 55],\n",
        "    'Income': [20000,25000,50000,65000,50000,70000,40000,23000,62000,72000],\n",
        "    'Purchase':[0,1,1,1,1,0,1,0,0,1]# 1 means yes 0 means no\n",
        "    }\n",
        "\n",
        "df=pd.DataFrame(data)\n",
        "print(df)\n",
        "#Define features and target\n",
        "x=df[['Age','Income']]\n",
        "y=df['Purchase']\n",
        "#Split data into training (80%) and testing into 20%\n",
        "X_train,x_test,y_train,y_test=train_test_split(x,y,test_size=0.2,random_state=100)\n",
        "#Standardize features\n",
        "scaler=StandardScaler()\n",
        "X_train=scaler.fit_transform(X_train)\n",
        "x_test=scaler.transform(x_test)\n",
        "#Train Knn model\n",
        "knn=KNeighborsClassifier(n_neighbors=1)\n",
        "knn.fit(X_train,y_train)\n",
        "#Make predictions\n",
        "y_pred=knn.predict(x_test)\n",
        "#Compute Accuracy\n",
        "acc=accuracy_score(y_test,y_pred)\n",
        "print(\"Accuracy: \" ,(acc*100))\n",
        "#Confusion Matrix\n",
        "cm=confusion_matrix(y_test,y_pred)\n",
        "print(\"Confusion Matrix:\")\n",
        "print(cm)"
      ]
    },
    {
      "cell_type": "code",
      "source": [],
      "metadata": {
        "id": "DBBDz6PoAbVf"
      },
      "execution_count": null,
      "outputs": []
    }
  ]
}